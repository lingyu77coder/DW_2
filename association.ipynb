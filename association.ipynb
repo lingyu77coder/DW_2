{
 "cells": [
  {
   "cell_type": "markdown",
   "metadata": {},
   "source": [
    "# 数据挖掘互评作业2"
   ]
  },
  {
   "cell_type": "markdown",
   "metadata": {},
   "source": [
    "一、加载数据、处理"
   ]
  },
  {
   "cell_type": "code",
   "execution_count": 85,
   "metadata": {},
   "outputs": [
    {
     "name": "stderr",
     "output_type": "stream",
     "text": [
      "e:\\python37\\lib\\site-packages\\ipykernel_launcher.py:1: FutureWarning: The pandas.np module is deprecated and will be removed from pandas in a future version. Import numpy directly instead\n",
      "  \"\"\"Entry point for launching an IPython kernel.\n"
     ]
    },
    {
     "name": "stdout",
     "output_type": "stream",
     "text": [
      "每列缺失的数据个数分别为:\n",
      "Agency                         1\n",
      "Create Time                    1\n",
      "Location                       0\n",
      "Area Id                      904\n",
      "Beat                         520\n",
      "Priority                       1\n",
      "Incident Type Id               1\n",
      "Incident Type Description      1\n",
      "Event Number                   1\n",
      "Closed Time                    7\n",
      "dtype: int64\n",
      "Area Id和Beat根据Location值进行填补\n",
      "Agency,Create Time,Priority,ITI,ITD,Event Number删除缺失值\n",
      "填补后数据的缺失个数分别为: Location                     0\n",
      "Area Id                      0\n",
      "Beat                         0\n",
      "Priority                     0\n",
      "Incident Type Id             0\n",
      "Incident Type Description    0\n",
      "dtype: int64\n",
      "处理后的数据shape为: (180015, 6)\n",
      "处理后的数据为:                         Location Area Id Beat  Priority Incident Type Id  \\\n",
      "0                ST&SAN PABLO AV       1  06X       1.0             PDOA   \n",
      "1                  ST&HANNAH ST        1  07X       1.0            415GS   \n",
      "2                  ST&MARKET ST        1  10Y       2.0            415GS   \n",
      "3                   PRENTISS ST        2  21Y       2.0            415GS   \n",
      "4              AV&FOOTHILL BLVD        2  20X       1.0            415GS   \n",
      "...                          ...     ...  ...       ...              ...   \n",
      "180010  WB REDWOOD RD&REDWOOD RD       1  22Y       2.0            SECCK   \n",
      "180011               WB 26TH AV        2  21X       2.0            415GS   \n",
      "180012     WERNER 40TH STREET WY       1  09X       1.0             PDOA   \n",
      "180013       WOOD AV&KEMPTON AV        1  08X       1.0              918   \n",
      "180014             WOODSON B ST        2  33X       2.0            415GS   \n",
      "\n",
      "       Incident Type Description  \n",
      "0           POSSIBLE DEAD PERSON  \n",
      "1                   415 GUNSHOTS  \n",
      "2                   415 GUNSHOTS  \n",
      "3                   415 GUNSHOTS  \n",
      "4                   415 GUNSHOTS  \n",
      "...                          ...  \n",
      "180010            SECURITY CHECK  \n",
      "180011              415 GUNSHOTS  \n",
      "180012      POSSIBLE DEAD PERSON  \n",
      "180013          PERSON SCREAMING  \n",
      "180014              415 GUNSHOTS  \n",
      "\n",
      "[180015 rows x 6 columns]\n"
     ]
    }
   ],
   "source": [
    "from pandas import Series,DataFrame,np\n",
    "from numpy import nan as NA\n",
    "import pandas as pd\n",
    "from scipy.interpolate import lagrange\n",
    "import matplotlib.pyplot as plt\n",
    "\n",
    "\n",
    "#1.加载数据\n",
    "def load_data(path,filename):\n",
    "    return pd.read_csv(path + '/' + filename)\n",
    "root = 'E:\\oakland-crime-statistics-2011-to-2016'\n",
    "data = load_data(root,'records-for-2011.csv')#中文\n",
    "data2 = load_data(root,'records-for-2011.csv')#中文\n",
    "\n",
    "#2.缺失数据统计 -列\n",
    "data.isnull().sum()\n",
    "print(\"每列缺失的数据个数分别为:\")\n",
    "print(data.isnull().sum())\n",
    "\n",
    "\n",
    "#3.缺失值填补-根据不同属性特点，分为三种方法\n",
    "#3.1根据属性之间的相关关系填补缺失值\n",
    "print(\"Area Id和Beat根据Location值进行填补\")\n",
    "# 查看Area Id,Beat特征缺失处对应的包含Area Id,Beat\n",
    "#所需要的信息的Location特征的具体情况\n",
    "area_locationdes=data.loc[data['Area Id'].isnull(), 'Location']\n",
    "beat_locationdes=data.loc[data['Beat'].isnull(), 'Location']\n",
    "# 定位到Area Id,Beat征缺失信息的具体位置\n",
    "area_loc=data.loc[data['Area Id'].isnull(), 'Area Id']\n",
    "beat_loc=data.loc[data['Beat'].isnull(), 'Beat']\n",
    "# 结合前面两步，利用字符串提取来补充Area Id的缺失信息\n",
    "data.loc[data['Area Id'].isnull(), 'Area Id'] \n",
    "    = [str(x)[0: len(str(x))] for x in area_locationdes]\n",
    "data.loc[data['Beat'].isnull(), 'Beat']\n",
    "    = [str(y)[0: len(str(y))] for y in beat_locationdes]\n",
    "#print(\"填补后Area Id缺失个数为:\",data['Area Id'].isnull().sum())\n",
    "#print(\"填补后Beat缺失个数为:\",data['Beat'].isnull().sum())\n",
    "\n",
    "#3.2删除-Agency,Create Time,Event Number,Event Number属性唯一的空值所在行\n",
    "print(\"Agency,Create Time,Priority,ITI,ITD,Event Number删除缺失值\")\n",
    "data=data.dropna(axis=0,subset=['Agency'])\n",
    "\n",
    "#3.3删除和关联规则挖掘关系不大的属性（值仅有一个或者一个属性只有一种值的情况）\n",
    "data=data.drop(['Agency','Create Time','Event Number','Closed Time'],axis=1)\n",
    "\n",
    "#检验缺失值处理后是否还存在缺失值\n",
    "print(\"填补后数据的缺失个数分别为:\",data.isnull().sum())\n",
    "\n",
    "print(\"处理后的数据shape为:\",data.shape)\n",
    "print(\"处理后的数据为:\",data)\n"
   ]
  },
  {
   "cell_type": "code",
   "execution_count": 67,
   "metadata": {},
   "outputs": [
    {
     "data": {
      "text/plain": [
       "([((0, (5, 't')), []),\n",
       "  ((0, (4, 'i')), []),\n",
       "  ((0, (4, 'e')), []),\n",
       "  ((0, (3, 'y')), []),\n",
       "  ((0, (3, 'r')), []),\n",
       "  ((0, (3, 'o')), []),\n",
       "  ((0, (3, 'n')), []),\n",
       "  ((0, (3, 'd')), []),\n",
       "  ((0, (3, 'c')), []),\n",
       "  ((0, (3, 'a')), []),\n",
       "  ((0, (3, 'I')), []),\n",
       "  ((0, (3, ' ')), []),\n",
       "  ((0, (2, 'p')), []),\n",
       "  ((1, (2, 'T')),\n",
       "   [(1,\n",
       "     ((2, 'p'),\n",
       "      (3, ' '),\n",
       "      (3, 'I'),\n",
       "      (3, 'c'),\n",
       "      (3, 'd'),\n",
       "      (3, 'n'),\n",
       "      (3, 'y'),\n",
       "      (4, 'e'),\n",
       "      (4, 'i'),\n",
       "      (5, 't')))]),\n",
       "  ((0, (1, 's')), []),\n",
       "  ((1, (1, 'P')), [(1, ((3, 'o'), (3, 'r'), (3, 'y'), (4, 'i'), (5, 't')))]),\n",
       "  ((1, (1, 'L')),\n",
       "   [(1, ((3, 'a'), (3, 'c'), (3, 'n'), (3, 'o'), (4, 'i'), (5, 't')))]),\n",
       "  ((1, (1, 'D')),\n",
       "   [(1,\n",
       "     ((1, 's'),\n",
       "      (2, 'T'),\n",
       "      (2, 'p'),\n",
       "      (3, ' '),\n",
       "      (3, 'I'),\n",
       "      (3, 'c'),\n",
       "      (3, 'd'),\n",
       "      (3, 'n'),\n",
       "      (3, 'o'),\n",
       "      (3, 'r'),\n",
       "      (3, 'y'),\n",
       "      (4, 'e'),\n",
       "      (4, 'i'),\n",
       "      (5, 't')))]),\n",
       "  ((1, (1, 'B')), [(1, ((3, 'a'), (4, 'e'), (5, 't')))]),\n",
       "  ((1, (1, 'A')),\n",
       "   [(1, ((3, ' '), (3, 'I'), (3, 'a'), (3, 'd'), (3, 'r'), (4, 'e')))])],\n",
       " OrderedDict([((5, 't'), 0),\n",
       "              ((4, 'i'), 1),\n",
       "              ((4, 'e'), 2),\n",
       "              ((3, 'y'), 3),\n",
       "              ((3, 'r'), 4),\n",
       "              ((3, 'o'), 5),\n",
       "              ((3, 'n'), 6),\n",
       "              ((3, 'd'), 7),\n",
       "              ((3, 'c'), 8),\n",
       "              ((3, 'a'), 9),\n",
       "              ((3, 'I'), 10),\n",
       "              ((3, ' '), 11),\n",
       "              ((2, 'p'), 12),\n",
       "              ((2, 'T'), 13),\n",
       "              ((1, 's'), 14),\n",
       "              ((1, 'P'), 15),\n",
       "              ((1, 'L'), 16),\n",
       "              ((1, 'D'), 17),\n",
       "              ((1, 'B'), 18),\n",
       "              ((1, 'A'), 19)]))"
      ]
     },
     "execution_count": 67,
     "metadata": {},
     "output_type": "execute_result"
    }
   ],
   "source": [
    "relim_input = itemmining.get_relim_input(data)\n",
    "relim_input"
   ]
  },
  {
   "cell_type": "markdown",
   "metadata": {},
   "source": [
    "二、关联规则挖掘"
   ]
  },
  {
   "cell_type": "code",
   "execution_count": null,
   "metadata": {},
   "outputs": [],
   "source": [
    "report = itemmining.relim(relim_input, min_support=2)\n",
    "#report"
   ]
  },
  {
   "cell_type": "code",
   "execution_count": null,
   "metadata": {},
   "outputs": [],
   "source": [
    "rules1 = assocrules.mine_assoc_rules(report, min_support=2, min_confidence=0.5)\n",
    "#rules1\n",
    "# for line in rules1:\n",
    "#     if len(line[0])>1 or len(line[1])>1 :\n",
    "#         print(line) \n",
    "        "
   ]
  },
  {
   "cell_type": "code",
   "execution_count": 71,
   "metadata": {},
   "outputs": [
    {
     "name": "stdout",
     "output_type": "stream",
     "text": [
      "<class 'tuple'>\n"
     ]
    }
   ],
   "source": [
    "print(type(line))"
   ]
  },
  {
   "cell_type": "code",
   "execution_count": 72,
   "metadata": {},
   "outputs": [
    {
     "name": "stdout",
     "output_type": "stream",
     "text": [
      "0.8\n"
     ]
    }
   ],
   "source": [
    "print(line[3])"
   ]
  },
  {
   "cell_type": "code",
   "execution_count": 75,
   "metadata": {},
   "outputs": [
    {
     "name": "stdout",
     "output_type": "stream",
     "text": [
      "(172311, 1)\n"
     ]
    }
   ],
   "source": [
    "confidence=[]\n",
    "for line in rules1:\n",
    "    if len(line[0])>1 or len(line[1])>1 :\n",
    "        confidence.append(line[3])\n",
    "\n",
    "df_con=pd.DataFrame(confidence,columns=['confidence'])\n",
    "print(df_con.shape)"
   ]
  },
  {
   "cell_type": "code",
   "execution_count": 107,
   "metadata": {
    "scrolled": true
   },
   "outputs": [
    {
     "name": "stdout",
     "output_type": "stream",
     "text": [
      "汇总和描述等统计量的计算\n",
      "对支持度和置信度的基本统计量进行描述\n",
      "             support     confidence\n",
      "count  172311.000000  172311.000000\n",
      "mean        0.577064       0.961774\n",
      "std         0.067123       0.111871\n",
      "min         0.300000       0.500000\n",
      "25%         0.600000       1.000000\n",
      "50%         0.600000       1.000000\n",
      "75%         0.600000       1.000000\n",
      "max         0.600000       1.000000\n"
     ]
    },
    {
     "data": {
      "text/html": [
       "<div>\n",
       "<style scoped>\n",
       "    .dataframe tbody tr th:only-of-type {\n",
       "        vertical-align: middle;\n",
       "    }\n",
       "\n",
       "    .dataframe tbody tr th {\n",
       "        vertical-align: top;\n",
       "    }\n",
       "\n",
       "    .dataframe thead th {\n",
       "        text-align: right;\n",
       "    }\n",
       "</style>\n",
       "<table border=\"1\" class=\"dataframe\">\n",
       "  <thead>\n",
       "    <tr style=\"text-align: right;\">\n",
       "      <th></th>\n",
       "      <th>support</th>\n",
       "      <th>confidence</th>\n",
       "    </tr>\n",
       "  </thead>\n",
       "  <tbody>\n",
       "    <tr>\n",
       "      <th>0</th>\n",
       "      <td>0.6</td>\n",
       "      <td>1.000000</td>\n",
       "    </tr>\n",
       "    <tr>\n",
       "      <th>1</th>\n",
       "      <td>0.6</td>\n",
       "      <td>1.000000</td>\n",
       "    </tr>\n",
       "    <tr>\n",
       "      <th>2</th>\n",
       "      <td>0.6</td>\n",
       "      <td>1.000000</td>\n",
       "    </tr>\n",
       "    <tr>\n",
       "      <th>3</th>\n",
       "      <td>0.6</td>\n",
       "      <td>1.000000</td>\n",
       "    </tr>\n",
       "    <tr>\n",
       "      <th>4</th>\n",
       "      <td>0.6</td>\n",
       "      <td>1.000000</td>\n",
       "    </tr>\n",
       "    <tr>\n",
       "      <th>...</th>\n",
       "      <td>...</td>\n",
       "      <td>...</td>\n",
       "    </tr>\n",
       "    <tr>\n",
       "      <th>172306</th>\n",
       "      <td>0.3</td>\n",
       "      <td>0.500000</td>\n",
       "    </tr>\n",
       "    <tr>\n",
       "      <th>172307</th>\n",
       "      <td>0.3</td>\n",
       "      <td>0.500000</td>\n",
       "    </tr>\n",
       "    <tr>\n",
       "      <th>172308</th>\n",
       "      <td>0.6</td>\n",
       "      <td>1.000000</td>\n",
       "    </tr>\n",
       "    <tr>\n",
       "      <th>172309</th>\n",
       "      <td>0.3</td>\n",
       "      <td>0.500000</td>\n",
       "    </tr>\n",
       "    <tr>\n",
       "      <th>172310</th>\n",
       "      <td>0.4</td>\n",
       "      <td>0.666667</td>\n",
       "    </tr>\n",
       "  </tbody>\n",
       "</table>\n",
       "<p>172311 rows × 2 columns</p>\n",
       "</div>"
      ],
      "text/plain": [
       "        support  confidence\n",
       "0           0.6    1.000000\n",
       "1           0.6    1.000000\n",
       "2           0.6    1.000000\n",
       "3           0.6    1.000000\n",
       "4           0.6    1.000000\n",
       "...         ...         ...\n",
       "172306      0.3    0.500000\n",
       "172307      0.3    0.500000\n",
       "172308      0.6    1.000000\n",
       "172309      0.3    0.500000\n",
       "172310      0.4    0.666667\n",
       "\n",
       "[172311 rows x 2 columns]"
      ]
     },
     "execution_count": 107,
     "metadata": {},
     "output_type": "execute_result"
    }
   ],
   "source": [
    "\n",
    "df_cs=pd.concat([df_supp,df_con],axis=1)\n",
    "df_cs.describe()\n",
    "#5.汇总和描述等统计量的计算\n",
    "print(\"汇总和描述等统计量的计算\")\n",
    "#对数据的基本统计量进行描述,得到每列数据的行数、平均值、协方差、最小值\n",
    "#、四分之一分位数、中位数、四分之三分位数、最大值\n",
    "print(\"对支持度和置信度的基本统计量进行描述\")\n",
    "print(df_cs.describe())\n",
    "df_cs"
   ]
  },
  {
   "cell_type": "code",
   "execution_count": 110,
   "metadata": {},
   "outputs": [
    {
     "data": {
      "image/png": "[encoded data removed]",
      "text/plain": [
       "<Figure size 432x288 with 1 Axes>"
      ]
     },
     "metadata": {
      "needs_background": "light"
     },
     "output_type": "display_data"
    }
   ],
   "source": [
    "# 绘制趋势图\n",
    "def result_plot(title_str):\n",
    "    x=df_cs[\"confidence\"]\n",
    "    y=df_cs[\"support\"]\n",
    "    parameter = np.polyfit(x, y, 1)\n",
    "    f = np.poly1d(parameter)  # 拼接方程\n",
    "    plt.plot(x, f(x), \"black\", linewidth=3)\n",
    "    #plt.scatter(real, pred, marker='o', alpha=0.7, s=15)\n",
    "    # s设置点的大小\n",
    "    # c是颜色\n",
    "    # alpha是透明度\n",
    "    plt.scatter(x, y, s=50, c='b', alpha=0.5)\n",
    "    plt.xlabel('confidence')\n",
    "    plt.ylabel('support')\n",
    "    plt.title(title_str)\n",
    "   \n",
    "    plt.show()\n",
    "    \n",
    "\n",
    "result_plot(\"crime-2011-scatter\")"
   ]
  },
  {
   "cell_type": "code",
   "execution_count": null,
   "metadata": {},
   "outputs": [],
   "source": [
    "#盒图\n",
    "def drawbox():\n",
    "\n",
    "    fig,axes = plt.subplots(nrows=1, ncols=2, figsize=(12, 5))\n",
    "    df_cs=df_cs[0:50]\n",
    "    axes[0].violinplot(df_cs, showmeans=False, showmedians=True)\n",
    "    axes[0].set_title('Crime_violin plot')\n",
    "\n",
    "    v = axes[0].violinplot(df_cs, showmeans=False, showmedians=True,color=['red','blue'])\n",
    "    print(v)\n",
    "\n",
    "\n",
    "    color_boxes = ['mistyrose', 'aliceblue']  # 散点颜色\n",
    "\n",
    "    ###############################################################\n",
    "\n",
    "    f = axes[1].boxplot(df_cs,patch_artist=True,positions=(0.01,1))\n",
    "    #plt.setp(f, xticks=[y + 1 for y in range(len(tang_data))], xticklabels=['l2r', 'l-r'])\n",
    "    #axes[1].set_xticks([0.03,1],['confidence','support'])\n",
    "    # 这里共有四个box\n",
    "    color_edge=['lightcoral','dodgerblue']\n",
    "    for box, cb,ce in zip(f['boxes'], color_boxes,color_edge):\n",
    "        # 箱体边框颜色\n",
    "        box.set(color=ce, linewidth=2)\n",
    "        # 箱体内部填充颜色\n",
    "        box.set(facecolor=cb)\n",
    "\n",
    "    color_w=['rosybrown','rosybrown','steelblue','steelblue']\n",
    "    # 这里设置的是各个box的其他属性\n",
    "    for whisker,cw in zip(f['whiskers'],color_w):\n",
    "        whisker.set(color=cw, linewidth=2,alpha=0.8)\n",
    "    color_c = ['rosybrown','rosybrown','steelblue','steelblue']\n",
    "    for cap,cc in zip(f['caps'],color_c):\n",
    "        cap.set(color=cc, linewidth=3,alpha=0.8)\n",
    "    #中位线\n",
    "    color_median=['darkred','DarkBlue']\n",
    "    f or median,cm in zip(f['medians'],color_median):\n",
    "        median.set(color=cm, linewidth=3)\n",
    "\n",
    "    for flier in f['fliers']:\n",
    "        flier.set(marker='x', color='y', alpha=0.5)\n",
    "    #####################################################\n",
    "\n",
    "    axes.set_title('Crime_box plot')\n",
    "\n",
    "    # for ax in axes:\n",
    "    # 对y轴加上网格\n",
    "    axes.yaxis.grid(True)\n",
    "    axes.set_xticks([y + 1 for y in range(len(df_cs))])\n",
    "    # 对每个图加上xticks操作\n",
    "    plt.ylabel('r-val')\n",
    "    plt.setp(axes, xticks=[y for y in range(len(df_cs))], xticklabels=['confidence', 'support'])\n",
    "    plt.plot()\n",
    "    plt.show()\n",
    "\n",
    "\n",
    "drawbox()"
   ]
  }
 ],
 "metadata": {
  "kernelspec": {
   "display_name": "Python 3",
   "language": "python",
   "name": "python3"
  },
  "language_info": {
   "codemirror_mode": {
    "name": "ipython",
    "version": 3
   },
   "file_extension": ".py",
   "mimetype": "text/x-python",
   "name": "python",
   "nbconvert_exporter": "python",
   "pygments_lexer": "ipython3",
   "version": "3.7.6"
  }
 },
 "nbformat": 4,
 "nbformat_minor": 4
}
